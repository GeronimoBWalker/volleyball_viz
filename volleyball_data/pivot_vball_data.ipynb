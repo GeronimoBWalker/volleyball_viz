{
 "cells": [
  {
   "cell_type": "code",
   "execution_count": 1,
   "metadata": {},
   "outputs": [],
   "source": [
    "import pandas as pd\n",
    "import numpy as np\n"
   ]
  },
  {
   "cell_type": "code",
   "execution_count": 3,
   "metadata": {},
   "outputs": [],
   "source": [
    "team_stuff = pd.read_excel('2022_TeamData.xlsx')"
   ]
  },
  {
   "cell_type": "code",
   "execution_count": 15,
   "metadata": {},
   "outputs": [
    {
     "data": {
      "text/plain": [
       "Index(['Index', 'Games Won', 'TEAM', 'LAT', 'LON', 'TOTAL SETS',\n",
       "       'HITTING ERRORS', 'TOTAL HITTING ATTEMPTS', 'HITTING PERCENTAGE',\n",
       "       'NO. OF ASSISTS', 'AVG. ASSISTS /S', 'NO. OF KILLS', 'AVG. KILLS /S',\n",
       "       'NO. OF BLOCKS', 'BLOCK SOLOS', 'BLOCK ASSISTS', 'AVG. BLOCKS /S',\n",
       "       'SERVICE ACES', 'AVG. SERVICE ACES /S', 'NO. OF DIGS', 'AVG. DIGS /S',\n",
       "       'YEAR'],\n",
       "      dtype='object')"
      ]
     },
     "execution_count": 15,
     "metadata": {},
     "output_type": "execute_result"
    }
   ],
   "source": [
    "team_stuff.columns"
   ]
  },
  {
   "cell_type": "code",
   "execution_count": 19,
   "metadata": {},
   "outputs": [],
   "source": [
    "pivot_teams = pd.melt(team_stuff, id_vars=['TEAM'], value_vars=['TOTAL SETS',\n",
    "       'HITTING ERRORS', 'TOTAL HITTING ATTEMPTS', 'HITTING PERCENTAGE',\n",
    "       'NO. OF ASSISTS', 'AVG. ASSISTS /S', 'NO. OF KILLS', 'AVG. KILLS /S',\n",
    "       'NO. OF BLOCKS', 'BLOCK SOLOS', 'BLOCK ASSISTS', 'AVG. BLOCKS /S',\n",
    "       'SERVICE ACES', 'AVG. SERVICE ACES /S', 'NO. OF DIGS', 'AVG. DIGS /S','Games Won',\n",
    "       'YEAR'], ignore_index=False)\n"
   ]
  },
  {
   "cell_type": "code",
   "execution_count": 20,
   "metadata": {},
   "outputs": [],
   "source": [
    "pivot_teams.to_csv(\"pivot_vball.csv\")"
   ]
  },
  {
   "cell_type": "code",
   "execution_count": 21,
   "metadata": {},
   "outputs": [
    {
     "data": {
      "text/plain": [
       "0.6345628416476968"
      ]
     },
     "execution_count": 21,
     "metadata": {},
     "output_type": "execute_result"
    }
   ],
   "source": [
    ".40267 ** 0.5"
   ]
  },
  {
   "cell_type": "code",
   "execution_count": 22,
   "metadata": {},
   "outputs": [
    {
     "data": {
      "text/plain": [
       "0.636804"
      ]
     },
     "execution_count": 22,
     "metadata": {},
     "output_type": "execute_result"
    }
   ],
   "source": [
    "np.square(-0.798 )"
   ]
  },
  {
   "cell_type": "code",
   "execution_count": null,
   "metadata": {},
   "outputs": [],
   "source": []
  }
 ],
 "metadata": {
  "kernelspec": {
   "display_name": "env310",
   "language": "python",
   "name": "python3"
  },
  "language_info": {
   "codemirror_mode": {
    "name": "ipython",
    "version": 3
   },
   "file_extension": ".py",
   "mimetype": "text/x-python",
   "name": "python",
   "nbconvert_exporter": "python",
   "pygments_lexer": "ipython3",
   "version": "3.10.13"
  }
 },
 "nbformat": 4,
 "nbformat_minor": 2
}
